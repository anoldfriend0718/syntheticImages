{
 "cells": [
  {
   "cell_type": "code",
   "execution_count": 7,
   "source": [
    "import numpy as np\n",
    "import matplotlib.pyplot as plt\n",
    "from matplotlib import colors\n",
    "import os\n",
    "import sys\n",
    "import json\n",
    "sys.path.append(f\"/home/anoldfriend/Workspace/MyRepo/hbs_syntenic_images/syntheticImages/pyScripts\")\n",
    "from sedimentRock import SedimentBearingRockGenerator\n"
   ],
   "outputs": [],
   "metadata": {}
  },
  {
   "cell_type": "code",
   "execution_count": 6,
   "source": [
    "# parameters = {\"rock_simulation\": {}, \"sediment_deposition\": {}, \"openfoam_file\": {}}\n",
    "# parameters[\"work_dir\"] = os.path.abspath(\"./\")\n",
    "\n",
    "# parameters[\"rock_simulation\"][\"training_rock_file\"] = \"./ti.raw\"\n",
    "# parameters[\"rock_simulation\"][\"training_rock_nx\"] = 100\n",
    "# parameters[\"rock_simulation\"][\"training_rock_ny\"] = 100\n",
    "# parameters[\"rock_simulation\"][\"simulation_method\"] = \"mps_snesim_tree\"\n",
    "# parameters[\"rock_simulation\"][\"template_size\"] = '[[60,40], [60,40], [1,1]]'\n",
    "# parameters[\"rock_simulation\"][\"n_cond\"] = 2500\n",
    "# parameters[\"rock_simulation\"][\"n_multiple_grids\"] = 5\n",
    "# parameters[\"rock_simulation\"][\"simulation_rock_nx\"] = 100\n",
    "# parameters[\"rock_simulation\"][\"simulation_rock_ny\"] = 100\n",
    "# parameters[\"rock_simulation\"][\"simulation_rock_file\"] = \"./export/binary/simulation_rock.raw\"\n",
    "\n",
    "\n",
    "# parameters[\"sediment_deposition\"][\"chunked_subdomain_num_x\"] = 2\n",
    "# parameters[\"sediment_deposition\"][\"chunked_subdomain_num_y\"] = 2\n",
    "# parameters[\"sediment_deposition\"][\"crystal_probability\"] = 0.11\n",
    "# parameters[\"sediment_deposition\"][\"min_grow_num\"] = 1\n",
    "# parameters[\"sediment_deposition\"][\"max_grow_num\"] = 3\n",
    "# parameters[\"sediment_deposition\"][\"sediment_bearing_rock_file\"] = \"./export/binary/sediment_bearing_domain.raw\"\n",
    "# parameters[\"sediment_deposition\"][\"lsmpqs_bin_dir\"] = \"/home/anoldfriend/Workspace/MyRepo/hbs_syntenic_images/syntheticImages/bin\"  # user\n",
    "# parameters[\"sediment_deposition\"][\"seed\"] = 10\n",
    "\n",
    "# parameters[\"openfoam_file\"][\"porosity_at_sediment_region\"] = 0.7\n",
    "# parameters[\"openfoam_file\"][\"porosity_at_rock_region\"] = 0.01\n",
    "# parameters[\"openfoam_file\"][\"openfoam_template_dir\"] = \"/home/anoldfriend/Workspace/MyRepo/MPSlib/tests/template\"\n",
    "# parameters[\"openfoam_file\"][\"openfoam_file_output_dir\"] = \"./export/openfoam\"\n",
    "\n",
    "# parameters[\"is_clean\"] = True\n",
    "\n",
    "\n"
   ],
   "outputs": [],
   "metadata": {}
  },
  {
   "cell_type": "code",
   "execution_count": null,
   "source": [],
   "outputs": [],
   "metadata": {}
  },
  {
   "cell_type": "code",
   "execution_count": 8,
   "source": [
    "with open(\"./parameters.json\",\"r\") as fp:\n",
    "    parameters=json.load(fp)\n",
    "generator = SedimentBearingRockGenerator()\n",
    "simulation_rock = generator.simulate(parameters)\n"
   ],
   "outputs": [
    {
     "output_type": "stream",
     "name": "stdout",
     "text": [
      "training rock shape:  (100, 100)\n",
      "Using MPSlib installed in /home/anoldfriend/Workspace/MyRepo/hbs_syntenic_images/syntheticImages/.venv/lib/python3.8 (from /home/anoldfriend/Workspace/MyRepo/hbs_syntenic_images/syntheticImages/.venv/lib/python3.8/site-packages/mpslib/mpslib.py)\n",
      "{'n_real': 1, 'rseed': 1, 'n_max_cpdf_count': 1, 'out_folder': '.', 'ti_fnam': 'ti.dat', 'simulation_grid_size': array([100, 100,   1]), 'origin': array([0., 0., 0.]), 'grid_cell_size': array([1, 1, 1]), 'mask_fnam': 'mask.dat', 'hard_data_fnam': 'hard.dat', 'shuffle_simulation_grid': 2, 'entropyfactor_simulation_grid': 4, 'shuffle_ti_grid': 1, 'hard_data_search_radius': 1, 'soft_data_categories': array([0, 1]), 'soft_data_fnam': 'soft.dat', 'n_threads': 1, 'debug_level': -1, 'do_estimation': 0, 'do_entropy': 1, 'template_size': array([[60, 40],\n",
      "       [60, 40],\n",
      "       [ 1,  1]]), 'n_multiple_grids': 5, 'n_min_node_count': 0, 'n_cond': 2500}\n",
      "parallel: using 1 threads to simulate 1 realizations\n",
      "parallel: with up to 1 relizations per thread\n",
      "parallel: Using 1 of max 39 threads\n",
      "__name__ = mpslib.mpslib\n",
      "Thread:000, nr=1\n",
      "File not found in: /home/anoldfriend/Workspace/MyRepo/hbs_syntenic_images/syntheticImages/.venv/lib/python3.8/mps_snesim_tree\n"
     ]
    }
   ],
   "metadata": {}
  },
  {
   "cell_type": "code",
   "execution_count": 4,
   "source": [
    "sediment_bearing_rock = generator.deposit(simulation_rock, parameters)"
   ],
   "outputs": [
    {
     "output_type": "stream",
     "name": "stdout",
     "text": [
      "4 subdomains were chunked\n",
      "random_grow_number matrix are: [[2 2]\n",
      " [1 1]]\n",
      "mean sediment fraction: 6.31%\n",
      "std sediment fraction: 2.24%\n",
      "raw rock porosity: 0.29800000000000004\n",
      "sediment-bearing rock porosity: 0.2349\n",
      "sediment volume fraction: 0.0631\n",
      "temporatory directories were cleaned\n"
     ]
    },
    {
     "output_type": "display_data",
     "data": {
      "text/plain": [
       "<Figure size 576x576 with 4 Axes>"
      ],
      "image/png": "[encoded data removed]"
     },
     "metadata": {}
    },
    {
     "output_type": "display_data",
     "data": {
      "text/plain": [
       "<Figure size 432x288 with 1 Axes>"
      ],
      "image/png": "[encoded data removed]"
     },
     "metadata": {
      "needs_background": "light"
     }
    },
    {
     "output_type": "display_data",
     "data": {
      "text/plain": [
       "<Figure size 576x576 with 4 Axes>"
      ],
      "image/png": "[encoded data removed]"
     },
     "metadata": {}
    },
    {
     "output_type": "display_data",
     "data": {
      "text/plain": [
       "<Figure size 432x288 with 2 Axes>"
      ],
      "image/png": "[encoded data removed]"
     },
     "metadata": {
      "needs_background": "light"
     }
    }
   ],
   "metadata": {}
  }
 ],
 "metadata": {
  "orig_nbformat": 4,
  "language_info": {
   "name": "python",
   "version": "3.8.5",
   "mimetype": "text/x-python",
   "codemirror_mode": {
    "name": "ipython",
    "version": 3
   },
   "pygments_lexer": "ipython3",
   "nbconvert_exporter": "python",
   "file_extension": ".py"
  },
  "kernelspec": {
   "name": "python3",
   "display_name": "Python 3.8.5 64-bit ('.venv': venv)"
  },
  "interpreter": {
   "hash": "e5b2a4237f05a2217389f6d3b95a2c472dc223d7a8b4198475b07cb135457cf0"
  }
 },
 "nbformat": 4,
 "nbformat_minor": 2
}